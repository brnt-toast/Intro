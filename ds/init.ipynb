{
 "cells": [
  {
   "cell_type": "markdown",
   "id": "5eb7f1fd",
   "metadata": {},
   "source": [
    "# Data Structures"
   ]
  },
  {
   "cell_type": "markdown",
   "id": "c4488067",
   "metadata": {},
   "source": [
    "## Characteristic of Data Structures\n"
   ]
  },
  {
   "cell_type": "markdown",
   "id": "3fa1bff7",
   "metadata": {},
   "source": [
    "Linear, Non-Linear, Homogeneous, Non-Homegenous, Static, Dynamic"
   ]
  },
  {
   "cell_type": "markdown",
   "id": "cb4d34f6",
   "metadata": {},
   "source": [
    "## Linear Data Structures"
   ]
  },
  {
   "cell_type": "markdown",
   "id": "99b7161a",
   "metadata": {},
   "source": [
    "array, linked list, stack, queue"
   ]
  },
  {
   "cell_type": "markdown",
   "id": "36dfa63e",
   "metadata": {},
   "source": [
    "## Non Linear Data Structures\n",
    "\n"
   ]
  },
  {
   "cell_type": "markdown",
   "id": "53fefe57",
   "metadata": {},
   "source": [
    "Trees, Graphs"
   ]
  },
  {
   "cell_type": "markdown",
   "id": "8c6054ff",
   "metadata": {},
   "source": [
    "## Operations on Data Structures"
   ]
  },
  {
   "cell_type": "markdown",
   "id": "5dedf0d7",
   "metadata": {},
   "source": [
    "Traversing, Insertion, Deletion, Searching, Sorting, Merging"
   ]
  },
  {
   "cell_type": "markdown",
   "id": "360995ff",
   "metadata": {},
   "source": [
    "# Algorithm "
   ]
  },
  {
   "cell_type": "markdown",
   "id": "285d2509",
   "metadata": {},
   "source": [
    "## Characteristics of an Algorith"
   ]
  },
  {
   "cell_type": "markdown",
   "id": "d94026ff",
   "metadata": {},
   "source": [
    "input, output, unambiguity, finiteness, effectivness, independent"
   ]
  },
  {
   "cell_type": "markdown",
   "id": "0c300cfb",
   "metadata": {},
   "source": [
    "## Factors of an Algorithm"
   ]
  },
  {
   "cell_type": "markdown",
   "id": "a5568b12",
   "metadata": {},
   "source": [
    "Modulartity, Correctness, Maintainability, Functionality, Robustness, Simplicity, extensibility "
   ]
  },
  {
   "cell_type": "markdown",
   "id": "8c447ec7",
   "metadata": {},
   "source": [
    "## Apporaches of an Algorithm"
   ]
  },
  {
   "cell_type": "markdown",
   "id": "ff090a8f",
   "metadata": {},
   "source": [
    "brute-force, divide and conquer, greedy, dynamic programming, branch and bound, randomized, backtracking"
   ]
  },
  {
   "cell_type": "markdown",
   "id": "fda27926",
   "metadata": {},
   "source": [
    "## Types of Algorithms"
   ]
  },
  {
   "cell_type": "markdown",
   "id": "2d5429eb",
   "metadata": {},
   "source": [
    "* Searching \n",
    "    * linear \n",
    "    * binary\n",
    "* Sorting"
   ]
  },
  {
   "cell_type": "markdown",
   "id": "d1497d84",
   "metadata": {},
   "source": [
    "# Asymptotic Analysis"
   ]
  },
  {
   "cell_type": "markdown",
   "id": "9de477ea",
   "metadata": {},
   "source": [
    "big O, Omega, Theta"
   ]
  },
  {
   "cell_type": "markdown",
   "id": "ed58ca7d",
   "metadata": {},
   "source": [
    "# Pointer"
   ]
  },
  {
   "cell_type": "markdown",
   "id": "e8d99fa0",
   "metadata": {},
   "source": []
  }
 ],
 "metadata": {
  "kernelspec": {
   "display_name": "Python 3 (ipykernel)",
   "language": "python",
   "name": "python3"
  },
  "language_info": {
   "codemirror_mode": {
    "name": "ipython",
    "version": 3
   },
   "file_extension": ".py",
   "mimetype": "text/x-python",
   "name": "python",
   "nbconvert_exporter": "python",
   "pygments_lexer": "ipython3",
   "version": "3.8.9"
  }
 },
 "nbformat": 4,
 "nbformat_minor": 5
}
