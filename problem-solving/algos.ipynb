{
 "cells": [
  {
   "cell_type": "markdown",
   "id": "828e28f9",
   "metadata": {},
   "source": [
    "# Kadane's Algorithmb"
   ]
  },
  {
   "cell_type": "code",
   "execution_count": null,
   "id": "66cf040b",
   "metadata": {},
   "outputs": [],
   "source": [
    "def kadane(iput):\n",
    "    max_store = 0\n",
    "    max_"
   ]
  }
 ],
 "metadata": {
  "kernelspec": {
   "display_name": "Python 3 (ipykernel)",
   "language": "python",
   "name": "python3"
  },
  "language_info": {
   "codemirror_mode": {
    "name": "ipython",
    "version": 3
   },
   "file_extension": ".py",
   "mimetype": "text/x-python",
   "name": "python",
   "nbconvert_exporter": "python",
   "pygments_lexer": "ipython3",
   "version": "3.8.9"
  }
 },
 "nbformat": 4,
 "nbformat_minor": 5
}
